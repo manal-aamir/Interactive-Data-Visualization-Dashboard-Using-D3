{
 "cells": [
  {
   "cell_type": "code",
   "execution_count": 1,
   "metadata": {},
   "outputs": [],
   "source": [
    "import pandas as pd\n",
    "import numpy as np\n",
    "import matplotlib.pyplot as plt\n"
   ]
  },
  {
   "cell_type": "code",
   "execution_count": 2,
   "metadata": {},
   "outputs": [],
   "source": [
    "# Load the data\n",
    "PatientInfo = pd.read_csv('data/PatientInfo.csv')\n",
    "Time = pd.read_csv('data/Time.csv')\n",
    "TimeProvince = pd.read_csv('data/TimeProvince.csv')\n",
    "Region = pd.read_csv('data/Region.csv')\n",
    "SearchTrend = pd.read_csv('data/SearchTrend.csv')\n",
    "Weather = pd.read_csv('data/Weather.csv')\n",
    "Case = pd.read_csv('data/Case.csv')\n",
    "Policy = pd.read_csv('data/Policy.csv')\n",
    "SeoulFloating = pd.read_csv('data/SeoulFloating.csv')\n",
    "TimeAge = pd.read_csv('data/TimeAge.csv')\n",
    "TimeGender = pd.read_csv('data/TimeGender.csv')"
   ]
  },
  {
   "cell_type": "code",
   "execution_count": 3,
   "metadata": {},
   "outputs": [
    {
     "data": {
      "text/html": [
       "<div>\n",
       "<style scoped>\n",
       "    .dataframe tbody tr th:only-of-type {\n",
       "        vertical-align: middle;\n",
       "    }\n",
       "\n",
       "    .dataframe tbody tr th {\n",
       "        vertical-align: top;\n",
       "    }\n",
       "\n",
       "    .dataframe thead th {\n",
       "        text-align: right;\n",
       "    }\n",
       "</style>\n",
       "<table border=\"1\" class=\"dataframe\">\n",
       "  <thead>\n",
       "    <tr style=\"text-align: right;\">\n",
       "      <th></th>\n",
       "      <th>patient_id</th>\n",
       "      <th>sex</th>\n",
       "      <th>age</th>\n",
       "      <th>country</th>\n",
       "      <th>province</th>\n",
       "      <th>city</th>\n",
       "      <th>infection_case</th>\n",
       "      <th>infected_by</th>\n",
       "      <th>contact_number</th>\n",
       "      <th>symptom_onset_date</th>\n",
       "      <th>confirmed_date</th>\n",
       "      <th>released_date</th>\n",
       "      <th>deceased_date</th>\n",
       "      <th>state</th>\n",
       "    </tr>\n",
       "  </thead>\n",
       "  <tbody>\n",
       "    <tr>\n",
       "      <th>0</th>\n",
       "      <td>1000000001</td>\n",
       "      <td>male</td>\n",
       "      <td>50s</td>\n",
       "      <td>Korea</td>\n",
       "      <td>Seoul</td>\n",
       "      <td>Gangseo-gu</td>\n",
       "      <td>overseas inflow</td>\n",
       "      <td>NaN</td>\n",
       "      <td>75</td>\n",
       "      <td>2020-01-22</td>\n",
       "      <td>2020-01-23</td>\n",
       "      <td>2020-02-05</td>\n",
       "      <td>NaN</td>\n",
       "      <td>released</td>\n",
       "    </tr>\n",
       "    <tr>\n",
       "      <th>1</th>\n",
       "      <td>1000000002</td>\n",
       "      <td>male</td>\n",
       "      <td>30s</td>\n",
       "      <td>Korea</td>\n",
       "      <td>Seoul</td>\n",
       "      <td>Jungnang-gu</td>\n",
       "      <td>overseas inflow</td>\n",
       "      <td>NaN</td>\n",
       "      <td>31</td>\n",
       "      <td>NaN</td>\n",
       "      <td>2020-01-30</td>\n",
       "      <td>2020-03-02</td>\n",
       "      <td>NaN</td>\n",
       "      <td>released</td>\n",
       "    </tr>\n",
       "    <tr>\n",
       "      <th>2</th>\n",
       "      <td>1000000003</td>\n",
       "      <td>male</td>\n",
       "      <td>50s</td>\n",
       "      <td>Korea</td>\n",
       "      <td>Seoul</td>\n",
       "      <td>Jongno-gu</td>\n",
       "      <td>contact with patient</td>\n",
       "      <td>2002000001</td>\n",
       "      <td>17</td>\n",
       "      <td>NaN</td>\n",
       "      <td>2020-01-30</td>\n",
       "      <td>2020-02-19</td>\n",
       "      <td>NaN</td>\n",
       "      <td>released</td>\n",
       "    </tr>\n",
       "    <tr>\n",
       "      <th>3</th>\n",
       "      <td>1000000004</td>\n",
       "      <td>male</td>\n",
       "      <td>20s</td>\n",
       "      <td>Korea</td>\n",
       "      <td>Seoul</td>\n",
       "      <td>Mapo-gu</td>\n",
       "      <td>overseas inflow</td>\n",
       "      <td>NaN</td>\n",
       "      <td>9</td>\n",
       "      <td>2020-01-26</td>\n",
       "      <td>2020-01-30</td>\n",
       "      <td>2020-02-15</td>\n",
       "      <td>NaN</td>\n",
       "      <td>released</td>\n",
       "    </tr>\n",
       "    <tr>\n",
       "      <th>4</th>\n",
       "      <td>1000000005</td>\n",
       "      <td>female</td>\n",
       "      <td>20s</td>\n",
       "      <td>Korea</td>\n",
       "      <td>Seoul</td>\n",
       "      <td>Seongbuk-gu</td>\n",
       "      <td>contact with patient</td>\n",
       "      <td>1000000002</td>\n",
       "      <td>2</td>\n",
       "      <td>NaN</td>\n",
       "      <td>2020-01-31</td>\n",
       "      <td>2020-02-24</td>\n",
       "      <td>NaN</td>\n",
       "      <td>released</td>\n",
       "    </tr>\n",
       "  </tbody>\n",
       "</table>\n",
       "</div>"
      ],
      "text/plain": [
       "   patient_id     sex  age country province         city  \\\n",
       "0  1000000001    male  50s   Korea    Seoul   Gangseo-gu   \n",
       "1  1000000002    male  30s   Korea    Seoul  Jungnang-gu   \n",
       "2  1000000003    male  50s   Korea    Seoul    Jongno-gu   \n",
       "3  1000000004    male  20s   Korea    Seoul      Mapo-gu   \n",
       "4  1000000005  female  20s   Korea    Seoul  Seongbuk-gu   \n",
       "\n",
       "         infection_case infected_by contact_number symptom_onset_date  \\\n",
       "0       overseas inflow         NaN             75         2020-01-22   \n",
       "1       overseas inflow         NaN             31                NaN   \n",
       "2  contact with patient  2002000001             17                NaN   \n",
       "3       overseas inflow         NaN              9         2020-01-26   \n",
       "4  contact with patient  1000000002              2                NaN   \n",
       "\n",
       "  confirmed_date released_date deceased_date     state  \n",
       "0     2020-01-23    2020-02-05           NaN  released  \n",
       "1     2020-01-30    2020-03-02           NaN  released  \n",
       "2     2020-01-30    2020-02-19           NaN  released  \n",
       "3     2020-01-30    2020-02-15           NaN  released  \n",
       "4     2020-01-31    2020-02-24           NaN  released  "
      ]
     },
     "execution_count": 3,
     "metadata": {},
     "output_type": "execute_result"
    }
   ],
   "source": [
    "# patient info data\n",
    "PatientInfo.head()"
   ]
  },
  {
   "cell_type": "code",
   "execution_count": 4,
   "metadata": {},
   "outputs": [
    {
     "name": "stdout",
     "output_type": "stream",
     "text": [
      "<class 'pandas.core.frame.DataFrame'>\n",
      "RangeIndex: 5165 entries, 0 to 5164\n",
      "Data columns (total 14 columns):\n",
      " #   Column              Non-Null Count  Dtype \n",
      "---  ------              --------------  ----- \n",
      " 0   patient_id          5165 non-null   int64 \n",
      " 1   sex                 4043 non-null   object\n",
      " 2   age                 3785 non-null   object\n",
      " 3   country             5165 non-null   object\n",
      " 4   province            5165 non-null   object\n",
      " 5   city                5071 non-null   object\n",
      " 6   infection_case      4246 non-null   object\n",
      " 7   infected_by         1346 non-null   object\n",
      " 8   contact_number      791 non-null    object\n",
      " 9   symptom_onset_date  690 non-null    object\n",
      " 10  confirmed_date      5162 non-null   object\n",
      " 11  released_date       1587 non-null   object\n",
      " 12  deceased_date       66 non-null     object\n",
      " 13  state               5165 non-null   object\n",
      "dtypes: int64(1), object(13)\n",
      "memory usage: 565.1+ KB\n"
     ]
    }
   ],
   "source": [
    "# columns of patient info data\n",
    "PatientInfo.info()"
   ]
  },
  {
   "cell_type": "code",
   "execution_count": 5,
   "metadata": {},
   "outputs": [
    {
     "data": {
      "text/plain": [
       "(5165, 14)"
      ]
     },
     "execution_count": 5,
     "metadata": {},
     "output_type": "execute_result"
    }
   ],
   "source": [
    "PatientInfo.shape"
   ]
  },
  {
   "cell_type": "code",
   "execution_count": 6,
   "metadata": {},
   "outputs": [
    {
     "data": {
      "text/plain": [
       "patient_id               0\n",
       "sex                   1122\n",
       "age                   1380\n",
       "country                  0\n",
       "province                 0\n",
       "city                    94\n",
       "infection_case         919\n",
       "infected_by           3819\n",
       "contact_number        4374\n",
       "symptom_onset_date    4475\n",
       "confirmed_date           3\n",
       "released_date         3578\n",
       "deceased_date         5099\n",
       "state                    0\n",
       "dtype: int64"
      ]
     },
     "execution_count": 6,
     "metadata": {},
     "output_type": "execute_result"
    }
   ],
   "source": [
    "# check for null values\n",
    "PatientInfo.isnull().sum()"
   ]
  },
  {
   "cell_type": "code",
   "execution_count": 7,
   "metadata": {},
   "outputs": [
    {
     "name": "stderr",
     "output_type": "stream",
     "text": [
      "C:\\Users\\user\\AppData\\Local\\Temp\\ipykernel_3340\\478884627.py:3: FutureWarning: A value is trying to be set on a copy of a DataFrame or Series through chained assignment using an inplace method.\n",
      "The behavior will change in pandas 3.0. This inplace method will never work because the intermediate object on which we are setting values always behaves as a copy.\n",
      "\n",
      "For example, when doing 'df[col].method(value, inplace=True)', try using 'df.method({col: value}, inplace=True)' or df[col] = df[col].method(value) instead, to perform the operation inplace on the original object.\n",
      "\n",
      "\n",
      "  PatientInfo['city'].fillna(most_frequent_city, inplace=True)\n"
     ]
    }
   ],
   "source": [
    "# Replace null values in the 'city' column with the most frequent city\n",
    "most_frequent_city = PatientInfo['city'].mode()[0]\n",
    "PatientInfo['city'].fillna(most_frequent_city, inplace=True)"
   ]
  },
  {
   "cell_type": "code",
   "execution_count": 8,
   "metadata": {},
   "outputs": [
    {
     "name": "stderr",
     "output_type": "stream",
     "text": [
      "C:\\Users\\user\\AppData\\Local\\Temp\\ipykernel_3340\\2926519261.py:3: FutureWarning: A value is trying to be set on a copy of a DataFrame or Series through chained assignment using an inplace method.\n",
      "The behavior will change in pandas 3.0. This inplace method will never work because the intermediate object on which we are setting values always behaves as a copy.\n",
      "\n",
      "For example, when doing 'df[col].method(value, inplace=True)', try using 'df.method({col: value}, inplace=True)' or df[col] = df[col].method(value) instead, to perform the operation inplace on the original object.\n",
      "\n",
      "\n",
      "  PatientInfo['infection_case'].fillna(most_frequent_infection_case, inplace=True)\n"
     ]
    }
   ],
   "source": [
    "# Replace null values in the 'infection_case' column with the most frequent infection case\n",
    "most_frequent_infection_case = PatientInfo['infection_case'].mode()[0]\n",
    "PatientInfo['infection_case'].fillna(most_frequent_infection_case, inplace=True)"
   ]
  },
  {
   "cell_type": "code",
   "execution_count": 9,
   "metadata": {},
   "outputs": [],
   "source": [
    "# drop contact_number column\n",
    "PatientInfo.drop('contact_number', axis=1, inplace=True)"
   ]
  },
  {
   "cell_type": "code",
   "execution_count": 10,
   "metadata": {},
   "outputs": [],
   "source": [
    "from datetime import timedelta\n",
    "\n",
    "# Convert 'confirmed_date' and 'released_date' to datetime.date\n",
    "PatientInfo['confirmed_date'] = pd.to_datetime(PatientInfo['confirmed_date'], errors='coerce').dt.date\n",
    "PatientInfo['released_date'] = pd.to_datetime(PatientInfo['released_date'], errors='coerce').dt.date\n",
    "\n",
    "# Calculate the difference in days\n",
    "PatientInfo['difference_in_days'] = (\n",
    "    PatientInfo['released_date'] - PatientInfo['confirmed_date']\n",
    ").apply(lambda x: x.days if pd.notnull(x) else None)\n",
    "\n",
    "# Calculate the mean difference, ignoring NaN values\n",
    "mean_difference = PatientInfo['difference_in_days'].mean()\n",
    "\n",
    "# Fill missing 'released_date' values by adding the mean difference to 'confirmed_date'\n",
    "PatientInfo['released_date'] = PatientInfo.apply(\n",
    "    lambda row: row['released_date'] if pd.notnull(row['released_date']) else (\n",
    "        row['confirmed_date'] + timedelta(days=int(mean_difference)) if pd.notnull(row['confirmed_date']) else None\n",
    "    ),\n",
    "    axis=1\n",
    ")\n",
    "\n",
    "# Drop the temporary column used for calculation\n",
    "PatientInfo.drop(columns=['difference_in_days'], inplace=True)\n"
   ]
  },
  {
   "cell_type": "code",
   "execution_count": 12,
   "metadata": {},
   "outputs": [
    {
     "name": "stdout",
     "output_type": "stream",
     "text": [
      "The time component has been removed, leaving only the date.\n"
     ]
    }
   ],
   "source": [
    "# Ensure 'confirmed_date' and 'released_date' contain only the date (no time)\n",
    "PatientInfo['confirmed_date'] = pd.to_datetime(PatientInfo['confirmed_date'], errors='coerce').dt.date\n",
    "PatientInfo['released_date'] = pd.to_datetime(PatientInfo['released_date'], errors='coerce').dt.date\n",
    "\n",
    "# Save the updated dataset to a new file\n",
    "PatientInfo.to_csv('Updated_PatientInfo.csv', index=False)\n",
    "\n",
    "print(\"The time component has been removed, leaving only the date.\")\n"
   ]
  },
  {
   "cell_type": "code",
   "execution_count": 14,
   "metadata": {},
   "outputs": [
    {
     "name": "stdout",
     "output_type": "stream",
     "text": [
      "<class 'pandas.core.frame.DataFrame'>\n",
      "RangeIndex: 5165 entries, 0 to 5164\n",
      "Data columns (total 13 columns):\n",
      " #   Column              Non-Null Count  Dtype \n",
      "---  ------              --------------  ----- \n",
      " 0   patient_id          5165 non-null   int64 \n",
      " 1   sex                 4043 non-null   object\n",
      " 2   age                 3785 non-null   object\n",
      " 3   country             5165 non-null   object\n",
      " 4   province            5165 non-null   object\n",
      " 5   city                5165 non-null   object\n",
      " 6   infection_case      5165 non-null   object\n",
      " 7   infected_by         1346 non-null   object\n",
      " 8   symptom_onset_date  690 non-null    object\n",
      " 9   confirmed_date      5162 non-null   object\n",
      " 10  released_date       5162 non-null   object\n",
      " 11  deceased_date       66 non-null     object\n",
      " 12  state               5165 non-null   object\n",
      "dtypes: int64(1), object(12)\n",
      "memory usage: 524.7+ KB\n"
     ]
    }
   ],
   "source": [
    "PatientInfo.info()"
   ]
  },
  {
   "cell_type": "code",
   "execution_count": 16,
   "metadata": {},
   "outputs": [
    {
     "name": "stdout",
     "output_type": "stream",
     "text": [
      "The time component has been successfully removed, leaving only the date in 'YYYY-MM-DD' format.\n"
     ]
    }
   ],
   "source": [
    "# Convert 'confirmed_date' and 'released_date' to datetime, then to strings in 'YYYY-MM-DD' format\n",
    "PatientInfo['confirmed_date'] = pd.to_datetime(PatientInfo['confirmed_date'], errors='coerce').dt.strftime('%Y-%m-%d')\n",
    "PatientInfo['released_date'] = pd.to_datetime(PatientInfo['released_date'], errors='coerce').dt.strftime('%Y-%m-%d')\n",
    "\n",
    "# Save the updated dataset to a new file\n",
    "PatientInfo.to_csv('Updated_PatientInfo.csv', index=False)\n",
    "\n",
    "print(\"The time component has been successfully removed, leaving only the date in 'YYYY-MM-DD' format.\")\n"
   ]
  },
  {
   "cell_type": "code",
   "execution_count": null,
   "metadata": {},
   "outputs": [],
   "source": []
  }
 ],
 "metadata": {
  "kernelspec": {
   "display_name": "Python 3",
   "language": "python",
   "name": "python3"
  },
  "language_info": {
   "codemirror_mode": {
    "name": "ipython",
    "version": 3
   },
   "file_extension": ".py",
   "mimetype": "text/x-python",
   "name": "python",
   "nbconvert_exporter": "python",
   "pygments_lexer": "ipython3",
   "version": "3.12.7"
  }
 },
 "nbformat": 4,
 "nbformat_minor": 2
}
