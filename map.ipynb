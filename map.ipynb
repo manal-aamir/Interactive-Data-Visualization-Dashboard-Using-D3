{
 "cells": [
  {
   "cell_type": "code",
   "execution_count": 1,
   "metadata": {},
   "outputs": [
    {
     "name": "stdout",
     "output_type": "stream",
     "text": [
      "Data processed and saved to data/map_data.json\n"
     ]
    }
   ],
   "source": [
    "import pandas as pd\n",
    "import json\n",
    "\n",
    "# Load the dataset\n",
    "file_path = 'data/data_map.csv'\n",
    "data = pd.read_csv(file_path)\n",
    "\n",
    "# Prepare data for mapping\n",
    "map_data = data[['province', 'city', 'latitude_x', 'longitude_x', 'confirmed']]\n",
    "map_data = map_data.rename(columns={'latitude_x': 'latitude', 'longitude_x': 'longitude'})\n",
    "\n",
    "# Convert to JSON for D3\n",
    "json_file_path = 'data/map_data.json'\n",
    "map_data.to_json(json_file_path, orient='records')\n",
    "\n",
    "print(f\"Data processed and saved to {json_file_path}\")\n"
   ]
  },
  {
   "cell_type": "code",
   "execution_count": null,
   "metadata": {},
   "outputs": [],
   "source": []
  }
 ],
 "metadata": {
  "kernelspec": {
   "display_name": "Python 3",
   "language": "python",
   "name": "python3"
  },
  "language_info": {
   "codemirror_mode": {
    "name": "ipython",
    "version": 3
   },
   "file_extension": ".py",
   "mimetype": "text/x-python",
   "name": "python",
   "nbconvert_exporter": "python",
   "pygments_lexer": "ipython3",
   "version": "3.12.7"
  }
 },
 "nbformat": 4,
 "nbformat_minor": 2
}
